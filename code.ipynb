{
 "cells": [
  {
   "cell_type": "markdown",
   "id": "680fdc85",
   "metadata": {},
   "source": [
    "### Исследование логических функций"
   ]
  },
  {
   "cell_type": "code",
   "execution_count": 1,
   "id": "08802238",
   "metadata": {},
   "outputs": [
    {
     "name": "stdout",
     "output_type": "stream",
     "text": [
      "16\n"
     ]
    }
   ],
   "source": [
    "#1.\n",
    "def f(x, A):\n",
    "    return ((x%A == 0) and (x%24 == 0) and (not (x% 16 == 0))) <= (not (x%A == 0))\n",
    "\n",
    "for A in range(1, 10000):\n",
    "    if (all(f(x, A) == 1 for x in range(1, 10000))):\n",
    "        print(A)\n",
    "        break #minimum!"
   ]
  },
  {
   "cell_type": "code",
   "execution_count": 2,
   "id": "39126fc6",
   "metadata": {},
   "outputs": [
    {
     "name": "stdout",
     "output_type": "stream",
     "text": [
      "1260\n"
     ]
    }
   ],
   "source": [
    "#2.\n",
    "def f(x, A):\n",
    "    return ((not (x%84 == 0)) or (not (x%90 == 0))) <= (not(x%A == 0))\n",
    "\n",
    "for A in range(1, 10000):\n",
    "    if (all(f(x, A) == 1 for x in range(1, 10000))):\n",
    "        print(A)\n",
    "        break #minimum!"
   ]
  },
  {
   "cell_type": "code",
   "execution_count": 3,
   "id": "be1a5271",
   "metadata": {},
   "outputs": [
    {
     "name": "stdout",
     "output_type": "stream",
     "text": [
      "7\n"
     ]
    }
   ],
   "source": [
    "#3.\n",
    "def f(x, A):\n",
    "    return ((x%15 == 0) and (not (x%21 == 0))) <= ((not (x%A == 0)) or (not(x%15 == 0)))\n",
    "\n",
    "for A in range(1, 10000):\n",
    "    if (all(f(x, A) for x in range(1, 10000))):\n",
    "        print(A)\n",
    "        break #minimum!"
   ]
  },
  {
   "cell_type": "code",
   "execution_count": 5,
   "id": "1ba83e25",
   "metadata": {},
   "outputs": [
    {
     "name": "stdout",
     "output_type": "stream",
     "text": [
      "7\n"
     ]
    }
   ],
   "source": [
    "#4.\n",
    "def f(x, A):\n",
    "    return ((x%4 != 3) or (x%6 != 1)) <= (x%36 != A)\n",
    "\n",
    "for A in range(1, 10000):\n",
    "    if (all(f(x, A) for x in range(1, 10000))):\n",
    "        print(A)\n",
    "        break #minimum!"
   ]
  },
  {
   "cell_type": "code",
   "execution_count": 8,
   "id": "72b46594",
   "metadata": {},
   "outputs": [
    {
     "name": "stdout",
     "output_type": "stream",
     "text": [
      "420\n"
     ]
    }
   ],
   "source": [
    "#5.\n",
    "def f(x, A):\n",
    "    return (A%7 == 0) and (240 % x == 0) <= ((not(A%x == 0)) <= (not (780%x == 0)))\n",
    "\n",
    "for A in range(1,10000):\n",
    "    if (all(f(x, A) == 1 for x in range(1, 10000))):\n",
    "        print(A)\n",
    "        break #minimum!"
   ]
  },
  {
   "cell_type": "code",
   "execution_count": 11,
   "id": "b2ceae48",
   "metadata": {},
   "outputs": [
    {
     "name": "stdout",
     "output_type": "stream",
     "text": [
      "2\n"
     ]
    }
   ],
   "source": [
    "#6.\n",
    "def f(x, A):\n",
    "    return ((x&26!=0) or (x&13 != 0)) <= ((x&29==0) <= (x&A != 0))\n",
    "\n",
    "for A in range(1, 100000):\n",
    "    if (all(f(x, A) for x in range(1,100000))):\n",
    "        print(A)\n",
    "        break #minimum!"
   ]
  },
  {
   "cell_type": "code",
   "execution_count": 13,
   "id": "3065ab35",
   "metadata": {
    "scrolled": true
   },
   "outputs": [
    {
     "name": "stdout",
     "output_type": "stream",
     "text": [
      "1\n",
      "4\n",
      "5\n",
      "8\n",
      "9\n",
      "12\n",
      "13\n"
     ]
    }
   ],
   "source": [
    "#7.\n",
    "def f(x, A):\n",
    "    return (((x&13!=0)or(x&A!=0)) <= (x&13!=0)) or ((x&A!=0)and(x&39==0))\n",
    "for A in range(1, 100):\n",
    "    if (all(f(x, A) for x in range(1,100))):\n",
    "        print(A)\n",
    "# maximum! - not break!\n",
    "# answer = 13 "
   ]
  },
  {
   "cell_type": "code",
   "execution_count": 14,
   "id": "857de3a5",
   "metadata": {},
   "outputs": [
    {
     "name": "stdout",
     "output_type": "stream",
     "text": [
      "20\n"
     ]
    }
   ],
   "source": [
    "#8.\n",
    "def f(x, A):\n",
    "    return(x&107==0) <= ((x&55!=0) <= (x&A!=0))\n",
    "for A in range(1,10000):\n",
    "    if (all(f(x, A) for x in range(1,10000))):\n",
    "        print(A)\n",
    "        break #minimum!"
   ]
  },
  {
   "cell_type": "code",
   "execution_count": 23,
   "id": "cd5383ec",
   "metadata": {
    "scrolled": false
   },
   "outputs": [
    {
     "name": "stdout",
     "output_type": "stream",
     "text": [
      "{0, 2, 4, 6, 8, 10, 12, 14, 16, 18, 20, 22, 24, 26, 28, 30, 32, 34, 36, 38, 40, 42, 44, 46, 48, 50, 52, 54, 56, 58, 60, 62, 64, 66, 68, 70, 72, 74, 76, 78, 80, 82, 84, 86, 88, 90, 92, 94, 96, 98, 100, 102, 104, 106, 108, 110, 112, 114, 116, 118, 120, 122, 124, 126, 128, 130, 132, 134, 136, 138, 140, 142, 144, 146, 148, 150, 152, 154, 156, 158, 160, 162, 164, 166, 168, 170, 172, 174, 176, 178, 180, 182, 184, 186, 188, 190}\n",
      "96\n"
     ]
    }
   ],
   "source": [
    "#9.\n",
    "# P принадлежит [11000000;11111111]\n",
    "# P принадлежит [192;511]\n",
    "p = set(range(192,512))\n",
    "# Q принадлежит [00000000;11111110]\n",
    "# step=2\n",
    "q = set(range(0, 512, 2)) \n",
    "a = set()\n",
    "def f(x):\n",
    "    return (not(x in a)) <= ((x in p) or (not(x in q)))\n",
    "for x in range(0, 512):\n",
    "    if not f(x):\n",
    "        a.add(x)\n",
    "print(a)\n",
    "print(len(a))"
   ]
  },
  {
   "cell_type": "code",
   "execution_count": 32,
   "id": "885f96cf",
   "metadata": {},
   "outputs": [
    {
     "name": "stdout",
     "output_type": "stream",
     "text": [
      "42\n"
     ]
    }
   ],
   "source": [
    "#10.\n",
    "def f(x, y, A):\n",
    "    return ((x*y) > A) and (x > y) and (x < 8)\n",
    "for A in range(1,100):\n",
    "    if (all(f(x, y, A) == 0 for x in range(1,100) for y in range(1,100))):\n",
    "        print(A)\n",
    "        break #minimum!"
   ]
  },
  {
   "cell_type": "code",
   "execution_count": 37,
   "id": "d3da4518",
   "metadata": {},
   "outputs": [
    {
     "name": "stdout",
     "output_type": "stream",
     "text": [
      "183\n"
     ]
    }
   ],
   "source": [
    "#11.\n",
    "def f(x, y, A):\n",
    "    return (x>39) or (y > 26) or ((2*x) + (4*y) < A)\n",
    "for A in range(1, 1000):\n",
    "    if (all(f(x, y, A)==1 for x in range(1,1000) for y in range(1, 1000))):\n",
    "        print(A)\n",
    "        break #minimum!"
   ]
  },
  {
   "cell_type": "code",
   "execution_count": 38,
   "id": "4ad987e6",
   "metadata": {},
   "outputs": [
    {
     "name": "stdout",
     "output_type": "stream",
     "text": [
      "1\n",
      "2\n",
      "3\n",
      "4\n",
      "5\n",
      "6\n",
      "7\n",
      "8\n",
      "9\n",
      "10\n",
      "11\n",
      "12\n",
      "13\n",
      "14\n",
      "15\n",
      "16\n",
      "17\n",
      "18\n",
      "19\n",
      "20\n",
      "21\n",
      "22\n",
      "23\n"
     ]
    }
   ],
   "source": [
    "#12.\n",
    "def f(x, y, A):\n",
    "    return ((2*x) + y != 70) or (x<y) or (A<x)\n",
    "for A in range(1,100):\n",
    "    if all(f(x, y, A) == 1 for x in range(1,100) for y in range(1,100)):\n",
    "        print(A) #maximum!\n",
    "#ans = 23"
   ]
  },
  {
   "cell_type": "code",
   "execution_count": 49,
   "id": "5215c5f0",
   "metadata": {},
   "outputs": [
    {
     "name": "stdout",
     "output_type": "stream",
     "text": [
      "29\n"
     ]
    }
   ],
   "source": [
    "#13.\n",
    "def f(x, y, A):\n",
    "    return ((x**2) - (10*x) + 16 > 0) or ((y**2) - (10*y) + 21 > 0) or ((x*y) < (2*A))\n",
    "for A in range(1,100):\n",
    "    if all(f(x,y,A) == 1 for x in range(1,100) for y in range(1,100)):\n",
    "        print(A)\n",
    "        break"
   ]
  },
  {
   "cell_type": "code",
   "execution_count": 79,
   "id": "7123620a",
   "metadata": {},
   "outputs": [
    {
     "name": "stdout",
     "output_type": "stream",
     "text": [
      "{9, 3}\n"
     ]
    }
   ],
   "source": [
    "#14.\n",
    "a = set()\n",
    "def f(x):\n",
    "    return ((x in {1, 3, 5, 7, 9, 11}) <= (not(x in {3, 6, 9, 12}))) or (x in a)\n",
    "for x in range(1,100):\n",
    "    if not f(x):\n",
    "        a.add(x)\n",
    "print(a)\n",
    "# ans = sum(a) = 12."
   ]
  },
  {
   "cell_type": "code",
   "execution_count": 76,
   "id": "1dc90fe1",
   "metadata": {},
   "outputs": [
    {
     "name": "stdout",
     "output_type": "stream",
     "text": [
      "{3, 6}\n",
      "2\n"
     ]
    }
   ],
   "source": [
    "#15.\n",
    "a = set()\n",
    "def f(x):\n",
    "    return not(not(x in a) and (x in {3,6,9,12})) or (not(x in {1,2,3,4,5,6}))\n",
    "for x in range(1, 100):\n",
    "    if not f(x):\n",
    "        a.add(x)\n",
    "print(a)\n",
    "print(len(a))"
   ]
  },
  {
   "cell_type": "code",
   "execution_count": 84,
   "id": "493083d6",
   "metadata": {},
   "outputs": [
    {
     "name": "stdout",
     "output_type": "stream",
     "text": [
      "8\n"
     ]
    }
   ],
   "source": [
    "#16. \n",
    "p = set(range(2, 22, 2))\n",
    "q = set(range(5, 55, 5))\n",
    "#print(p, q)\n",
    "a = set(range(1,100))\n",
    "def f(x):\n",
    "    return ((x in a) <= (x in p)) and ((x in q) <= (not(x in a)))\n",
    "for x in range(1, 100):\n",
    "    if not f(x):\n",
    "        a.remove(x)\n",
    "print(len(a))"
   ]
  },
  {
   "cell_type": "code",
   "execution_count": 90,
   "id": "ad41fe64",
   "metadata": {},
   "outputs": [
    {
     "name": "stdout",
     "output_type": "stream",
     "text": [
      "2\n",
      "{18, 6}\n"
     ]
    }
   ],
   "source": [
    "#17.\n",
    "p = set(range(2, 22, 2))\n",
    "q = set(range(3, 33, 3))\n",
    "r = set(range(12, 72, 12))\n",
    "a = set()\n",
    "def f(x):\n",
    "    return (x not in a) <= (((x in p) and (x in q)) <= (x in r))\n",
    "for x in range(1,100):\n",
    "    if f(x) == 0:\n",
    "        a.add(x)\n",
    "print(len(a))\n",
    "print(a)"
   ]
  },
  {
   "cell_type": "code",
   "execution_count": 73,
   "id": "3e73e65f",
   "metadata": {
    "scrolled": true
   },
   "outputs": [
    {
     "name": "stdout",
     "output_type": "stream",
     "text": [
      "1 28\n",
      "2 28\n",
      "3 28\n",
      "4 28\n",
      "5 28\n",
      "6 28\n",
      "7 28\n",
      "8 28\n",
      "9 28\n",
      "10 28\n",
      "11 28\n",
      "12 28\n",
      "13 28\n",
      "14 28\n",
      "15 28\n",
      "16 28\n",
      "17 28\n",
      "11\n"
     ]
    }
   ],
   "source": [
    "#18. (неправильно)\n",
    "mn = 1e9 # счетчик минимума, поставил 10^9.\n",
    "def f(x, k1, k2):\n",
    "    return (17 <= x <= 58) <= (((not(29 <= x <= 80)) and (not(k1 <= x <= k2))) <= (not(17 <= x <= 58)))\n",
    "for k1 in range(1, 81):\n",
    "    for k2 in range(k1+1, 81):\n",
    "        if all(f(x, k1, k2) == 1 for x in range(1, 100)):\n",
    "            #if abs(k1-k2) < mn:\n",
    "                #print(k1, k2)\n",
    "            mn = min(mn, k2-k1)\n",
    "print(mn)\n",
    "#ОТВЕТ 12!!! (28-17+1)"
   ]
  },
  {
   "cell_type": "code",
   "execution_count": 91,
   "id": "9f198a0f",
   "metadata": {},
   "outputs": [
    {
     "name": "stdout",
     "output_type": "stream",
     "text": [
      "17\n"
     ]
    }
   ],
   "source": [
    "#19.\n",
    "mn = 1e9 # счетчик минимума, поставил 10^9.\n",
    "def f(x, k1, k2):\n",
    "    return (17 <= x <= 54) <= (((37 <= x <= 83) and (not(k1 <= x <= k2))) <= (not(17<=x<=54)))\n",
    "for k1 in range(1, 84):\n",
    "    for k2 in range(k1+1, 84):\n",
    "        if all(f(x, k1, k2) == 1 for x in range(1, 100)):\n",
    "            #if abs(k1-k2) < mn:\n",
    "                #print(k1, k2)\n",
    "            mn = min(mn, abs(k1-k2))\n",
    "print(mn)"
   ]
  },
  {
   "cell_type": "code",
   "execution_count": 53,
   "id": "c7dcf143",
   "metadata": {},
   "outputs": [
    {
     "name": "stdout",
     "output_type": "stream",
     "text": [
      "1 52\n",
      "2 52\n",
      "3 52\n",
      "4 52\n",
      "5 52\n",
      "6 52\n",
      "7 52\n",
      "8 52\n",
      "9 52\n",
      "10 52\n",
      "11 52\n",
      "12 52\n",
      "13 52\n",
      "14 52\n",
      "15 52\n",
      "16 52\n"
     ]
    }
   ],
   "source": [
    "#20.\n",
    "def f(x, k1, k2):\n",
    "    return ((18 <= x <= 52) <= (k1 <= x <= k2)) and ((not(16 <= x <= 41)) or (k1 <= x <= k2))\n",
    "for k1 in range(1, 53):\n",
    "    for k2 in range(k1+1, 53):\n",
    "        if all(f(x, k1, k2) == 1 for x in range(1, 100)):\n",
    "            print(k1, k2)\n",
    "# ans = 52-16 = 36"
   ]
  },
  {
   "cell_type": "code",
   "execution_count": null,
   "id": "df9c4fcc",
   "metadata": {},
   "outputs": [],
   "source": []
  }
 ],
 "metadata": {
  "kernelspec": {
   "display_name": "Python 3",
   "language": "python",
   "name": "python3"
  },
  "language_info": {
   "codemirror_mode": {
    "name": "ipython",
    "version": 3
   },
   "file_extension": ".py",
   "mimetype": "text/x-python",
   "name": "python",
   "nbconvert_exporter": "python",
   "pygments_lexer": "ipython3",
   "version": "3.8.8"
  }
 },
 "nbformat": 4,
 "nbformat_minor": 5
}
